{
 "cells": [
  {
   "cell_type": "markdown",
   "id": "digital-restoration",
   "metadata": {},
   "source": [
    "# DATA 558 Homework 2: Coding\n",
    "#### Anushna Prakash\n",
    "#### April 16th, 2021"
   ]
  },
  {
   "cell_type": "markdown",
   "id": "improving-litigation",
   "metadata": {},
   "source": [
    "### 3.2 Gradient Descent\n",
    "\n",
    "The objective function for Ridge regression is:\n",
    "$$\n",
    "F(\\beta) = \\frac{1}{2n}\\sum_{i=1}^n (y_i - x_i^\\top \\beta)^2 + \\frac{\\lambda}{n} ||\\beta||_2^2,\n",
    "$$\n",
    "\n",
    "Assuming that $d=1$ and $n=1$, then the function can be written as:\n",
    "$$\n",
    "F(\\beta) = \\frac{1}{2}(y - x\\beta)^2 + \\lambda\\beta^2\n",
    "$$\n",
    "\n",
    "The gradient $\\nabla F$ of $F$ can be written as:\n",
    "$$\n",
    "\\nabla F = -x(y - x\\beta) + 2\\lambda\\beta\n",
    "$$\n",
    "\n",
    "Now assuming that $d>1$ and $n>1$ and using the linearity of differentiation, the gradient $\\nabla F(\\beta)$ of $F$ can be written as:\n",
    "$$\n",
    "\\nabla F(\\beta) = \\frac{-2}{n} X(Y - X^\\top\\beta) + \\frac{2}{n} \\lambda\\beta\n",
    "$$"
   ]
  },
  {
   "cell_type": "code",
   "execution_count": 2,
   "id": "ambient-replica",
   "metadata": {},
   "outputs": [],
   "source": [
    "import pandas as pd\n",
    "import numpy as np\n",
    "from sklearn.model_selection import train_test_split\n",
    "from sklearn import preprocessing"
   ]
  },
  {
   "cell_type": "code",
   "execution_count": 7,
   "id": "nearby-cleveland",
   "metadata": {},
   "outputs": [],
   "source": [
    "# Load the data\n",
    "file = 'https://raw.githubusercontent.com/mwaskom/seaborn-data/master/penguins.csv'\n",
    "penguins = pd.read_csv(file, sep = ',', header = 0)\n",
    "penguins = penguins.dropna()"
   ]
  },
  {
   "cell_type": "code",
   "execution_count": 22,
   "id": "packed-anniversary",
   "metadata": {},
   "outputs": [],
   "source": [
    "# Create our X matrix with the predictors and y vector with the response\n",
    "X = penguins.drop('body_mass_g', axis = 1)\n",
    "X = pd.get_dummies(X, drop_first = True).to_numpy()\n",
    "y = penguins['body_mass_g'].to_numpy()"
   ]
  },
  {
   "cell_type": "markdown",
   "id": "union-savings",
   "metadata": {},
   "source": [
    "Ridge regression requires data to be transformed into a standard scale. For each observation i in p features of X, we will take:\n",
    "$Z_{ip} = \\frac{X_{ip} - \\bar{X_{p}}}{\\sigma(X_{p})}$"
   ]
  },
  {
   "cell_type": "code",
   "execution_count": 24,
   "id": "subtle-photography",
   "metadata": {},
   "outputs": [],
   "source": [
    "# Transform variables\n",
    "X_transformed = preprocessing.StandardScaler().fit_transform(X)\n",
    "# Divide the data into training and test sets. By default, 25% goes into the test set.\n",
    "X_train, X_test, y_train, y_test = train_test_split(X_transformed, y, random_state = 0)"
   ]
  },
  {
   "cell_type": "code",
   "execution_count": 28,
   "id": "earned-restriction",
   "metadata": {},
   "outputs": [
    {
     "data": {
      "text/plain": [
       "(333, 8)"
      ]
     },
     "execution_count": 28,
     "metadata": {},
     "output_type": "execute_result"
    }
   ],
   "source": [
    "X_transformed.shape"
   ]
  },
  {
   "cell_type": "code",
   "execution_count": 30,
   "id": "leading-traveler",
   "metadata": {},
   "outputs": [],
   "source": [
    "def computegrad(beta, lambda_, X, y):\n",
    "    \"\"\"\n",
    "\tParameters\n",
    "\t----------\n",
    "\tbeta : numpy.ndarray\n",
    "\t\tA numpy array of size (p+1,), where p is the number of predictors.\n",
    "    lambda_ : float\n",
    "        Regularization hyperparameter.\n",
    "    X : numpy.ndarray\n",
    "        A numpy array of size (n,p+1), containing the design matrix.\n",
    "    y : numpy.ndarray\n",
    "        A numpy array of size (n,), containing the responses.\n",
    "\n",
    "\tReturns\n",
    "\t-------\n",
    "\tgrad : numpy.ndarray\n",
    "\t\tA numpy array of size (p+1,), containing the gradient dL/dbeta.\n",
    "    \"\"\"\n",
    "    n = X.shape[0]\n",
    "    resid = y - np.dot(X, beta)\n",
    "    grad = -2/n * np.dot(np.transpose(X), resid) + 2/n * lambda_ * beta\n",
    "    \n",
    "    return grad"
   ]
  },
  {
   "cell_type": "code",
   "execution_count": 31,
   "id": "diverse-space",
   "metadata": {},
   "outputs": [],
   "source": [
    "def graddescent(init_point, step_size, max_iterations, *args):\n",
    "    \"\"\"Gradient of g.\n",
    "\n",
    "\tParameters\n",
    "\t----------\n",
    "    init_point : numpy.ndarray\n",
    "\t\tA numpy array of size (p+1) where p is the number of predictors. \n",
    "        It is an initial starting point of betas to begin gradient descent.\n",
    "    step_size : float\n",
    "\t\tLearning rate, or step size in optimization.\n",
    "    max_iterations : int\n",
    "\t\tMaximum number of iterations to run GD.\n",
    "    *args : lambda_, X, and Y\n",
    "\n",
    "\tReturns\n",
    "\t-------\n",
    "\titerates : list[numpy.ndarray]\n",
    "\t\tA list of numpy arrays, each of size (d,), containing the iterates of GD.\n",
    "\t\"\"\"\n",
    "    iters = 0 # initialize counter\n",
    "    beta_iters = [init_point]\n",
    "    gradient = computegrad(init_point, *args)\n",
    "    \n",
    "    while iters < max_iterations:\n",
    "        beta = beta - step_size * gradient\n",
    "        gradient = computegrad(beta, *args)\n",
    "        beta_iters.append(beta)\n",
    "        iters += 1\n",
    "    \n",
    "    return beta_iters"
   ]
  },
  {
   "cell_type": "code",
   "execution_count": null,
   "id": "terminal-macedonia",
   "metadata": {},
   "outputs": [],
   "source": []
  }
 ],
 "metadata": {
  "kernelspec": {
   "display_name": "Python [conda env:DATA558] *",
   "language": "python",
   "name": "conda-env-DATA558-py"
  },
  "language_info": {
   "codemirror_mode": {
    "name": "ipython",
    "version": 3
   },
   "file_extension": ".py",
   "mimetype": "text/x-python",
   "name": "python",
   "nbconvert_exporter": "python",
   "pygments_lexer": "ipython3",
   "version": "3.7.10"
  }
 },
 "nbformat": 4,
 "nbformat_minor": 5
}
