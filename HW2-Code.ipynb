{
 "cells": [
  {
   "cell_type": "markdown",
   "id": "arabic-roller",
   "metadata": {},
   "source": [
    "# DATA 558 Homework 2: Coding\n",
    "#### Anushna Prakash\n",
    "#### April 16th, 2021"
   ]
  },
  {
   "cell_type": "markdown",
   "id": "little-importance",
   "metadata": {},
   "source": [
    "### 3.2 Gradient Descent\n",
    "\n",
    "The objective function for Ridge regression is:\n",
    "$$\n",
    "F(\\beta) = \\frac{1}{2n}\\sum_{i=1}^n (y_i - x_i^\\top \\beta)^2 + \\frac{\\lambda}{n} ||\\beta||_2^2,\n",
    "$$\n",
    "\n",
    "Assuming that $d=1$ and $n=1$, then the function can be written as:\n",
    "$$\n",
    "F(\\beta) = \\frac{1}{2}(y - x\\beta)^2 + \\lambda\\beta^2\n",
    "$$\n",
    "\n",
    "The gradient $\\nabla F$ of $F$ can be written as:\n",
    "$$\n",
    "\\nabla F = -x(y - x\\beta) + 2\\lambda\\beta\n",
    "$$\n",
    "\n",
    "Now assuming that $d>1$ and $n>1$ and using the linearity of differentiation, the gradient $\\nabla F(\\beta)$ of $F$ can be written as:\n",
    "$$\n",
    "\\nabla F(\\beta) = \\frac{-1}{n} X(Y - X^\\top\\beta) + \\frac{2}{n} \\lambda\\beta\n",
    "$$"
   ]
  },
  {
   "cell_type": "code",
   "execution_count": 53,
   "id": "alternate-david",
   "metadata": {},
   "outputs": [],
   "source": [
    "import pandas as pd\n",
    "import numpy as np\n",
    "from sklearn.model_selection import train_test_split\n",
    "from sklearn import preprocessing\n",
    "import matplotlib.pyplot as plt"
   ]
  },
  {
   "cell_type": "code",
   "execution_count": 7,
   "id": "rural-royalty",
   "metadata": {},
   "outputs": [],
   "source": [
    "# Load the data\n",
    "file = 'https://raw.githubusercontent.com/mwaskom/seaborn-data/master/penguins.csv'\n",
    "penguins = pd.read_csv(file, sep = ',', header = 0)\n",
    "penguins = penguins.dropna()"
   ]
  },
  {
   "cell_type": "code",
   "execution_count": 22,
   "id": "dietary-discrimination",
   "metadata": {},
   "outputs": [],
   "source": [
    "# Create our X matrix with the predictors and y vector with the response\n",
    "X = penguins.drop('body_mass_g', axis = 1)\n",
    "X = pd.get_dummies(X, drop_first = True).to_numpy()\n",
    "y = penguins['body_mass_g'].to_numpy()"
   ]
  },
  {
   "cell_type": "markdown",
   "id": "thrown-briefs",
   "metadata": {},
   "source": [
    "Ridge regression requires data to be transformed into a standard scale. For each observation i in p features of X and the response variable y, we will take:\n",
    "$$Z_{ip} = \\frac{X_{ip} - \\bar{X_{p}}}{\\sigma(X_{p})}$$\n",
    "or:\n",
    "$$Z_{i} = \\frac{y_{i} - \\bar{y}}{\\sigma(y)}$$"
   ]
  },
  {
   "cell_type": "code",
   "execution_count": 60,
   "id": "progressive-terrorism",
   "metadata": {},
   "outputs": [],
   "source": [
    "# Transform variables\n",
    "X_transformed = preprocessing.StandardScaler().fit_transform(X)\n",
    "y_transformed = preprocessing.scale(y)\n",
    "# Divide the data into training and test sets. By default, 25% goes into the test set.\n",
    "X_train, X_test, y_train, y_test = train_test_split(X_transformed, y_transformed, random_state = 0)"
   ]
  },
  {
   "cell_type": "code",
   "execution_count": 49,
   "id": "seventh-opposition",
   "metadata": {},
   "outputs": [],
   "source": [
    "def computegrad(beta, lambda_, X, y):\n",
    "    \"\"\"\n",
    "\tParameters\n",
    "\t----------\n",
    "\tbeta : numpy.ndarray\n",
    "\t\tA numpy array of size (p+1,), where p is the number of predictors.\n",
    "    lambda_ : float\n",
    "        Regularization hyperparameter.\n",
    "    X : numpy.ndarray\n",
    "        A numpy array of size (n,p+1), containing the design matrix.\n",
    "    y : numpy.ndarray\n",
    "        A numpy array of size (n,), containing the responses.\n",
    "\n",
    "\tReturns\n",
    "\t-------\n",
    "\tgrad : numpy.ndarray\n",
    "\t\tA numpy array of size (p+1,), containing the gradient dL/dbeta.\n",
    "    \"\"\"\n",
    "    n = X.shape[0]\n",
    "    resid = y - np.dot(X, beta)\n",
    "    grad = -1/n * np.dot(np.transpose(X), resid) + 2/n * lambda_ * beta\n",
    "    \n",
    "    return grad"
   ]
  },
  {
   "cell_type": "code",
   "execution_count": 38,
   "id": "therapeutic-volleyball",
   "metadata": {},
   "outputs": [],
   "source": [
    "def graddescent(init_point, step_size, max_iterations, *args):\n",
    "    \"\"\"Gradient of g.\n",
    "\n",
    "\tParameters\n",
    "\t----------\n",
    "    init_point : numpy.ndarray\n",
    "\t\tA numpy array of size (p+1) where p is the number of predictors. \n",
    "        It is an initial starting point of betas to begin gradient descent.\n",
    "    step_size : float\n",
    "\t\tLearning rate, or step size in optimization.\n",
    "    max_iterations : int\n",
    "\t\tMaximum number of iterations to run GD.\n",
    "    *args : lambda_, X, and Y\n",
    "\n",
    "\tReturns\n",
    "\t-------\n",
    "\titerates : list[numpy.ndarray]\n",
    "\t\tA list of numpy arrays, each of size (d,), containing the iterates of GD.\n",
    "\t\"\"\"\n",
    "    iters = 0 # initialize counter\n",
    "    beta_iters = [init_point]\n",
    "    gradient = computegrad(init_point, *args)\n",
    "    beta = init_point\n",
    "    \n",
    "    while iters < max_iterations:\n",
    "        beta = beta - step_size * gradient\n",
    "        gradient = computegrad(beta, *args)\n",
    "        beta_iters.append(beta)\n",
    "        iters += 1\n",
    "    \n",
    "    return beta_iters"
   ]
  },
  {
   "cell_type": "code",
   "execution_count": 71,
   "id": "adaptive-locator",
   "metadata": {},
   "outputs": [],
   "source": [
    "def objective_f(beta, lambda_, X, y):\n",
    "    \"\"\"Computes the objective function F(B) that is minimized by ridge regression.\n",
    "\n",
    "\tParameters\n",
    "\t----------\n",
    "    beta : numpy.ndarray\n",
    "    lambda_ : float\n",
    "    X : numpy.ndarray\n",
    "    y : numpy array\n",
    "\n",
    "\tReturns\n",
    "\t-------\n",
    "\tf : float\n",
    "\t\tThe value of the objective function evaluated using beta.\n",
    "\t\"\"\"\n",
    "    n = X.shape[0]\n",
    "    resid = y - np.dot(X, beta) \n",
    "    f = 1/(2*n) * np.linalg.norm(resid)**2 + lambda_/n * np.linalg.norm(beta)**2\n",
    "    return f"
   ]
  },
  {
   "cell_type": "markdown",
   "id": "standing-profile",
   "metadata": {},
   "source": [
    "Plot the # of iterations t against the objective function $F(\\beta)$.\n",
    "Assume $\\lambda=-5$ and $\\eta=0.5$."
   ]
  },
  {
   "cell_type": "code",
   "execution_count": 72,
   "id": "federal-symposium",
   "metadata": {},
   "outputs": [],
   "source": [
    "lambda_ = -5\n",
    "lr = 0.5\n",
    "max_iters = 1000\n",
    "beta_0 = np.zeros(X.shape[1])\n",
    "\n",
    "grad_desc_betas = graddescent(beta_0, lr, max_iters, lambda_, X_train, y_train)\n",
    "ridge_function = [objective_f(b, lambda_, X_train, y_train) for b in grad_desc_betas]"
   ]
  },
  {
   "cell_type": "code",
   "execution_count": 73,
   "id": "moral-preparation",
   "metadata": {},
   "outputs": [
    {
     "data": {
      "text/plain": [
       "Text(0, 0.5, 'Ridge Function')"
      ]
     },
     "execution_count": 73,
     "metadata": {},
     "output_type": "execute_result"
    },
    {
     "data": {
      "image/png": "[encoded data removed]",
      "text/plain": [
       "<Figure size 432x288 with 1 Axes>"
      ]
     },
     "metadata": {
      "needs_background": "light"
     },
     "output_type": "display_data"
    }
   ],
   "source": [
    "plt.plot(range(max_iters + 1), ridge_function, color = \"cornflowerblue\")\n",
    "plt.title(label = 'Ridge Objective vs. # of Iterations, lambda = -5')\n",
    "plt.xlabel('Number of Iterations')\n",
    "plt.ylabel('Ridge Function')"
   ]
  },
  {
   "cell_type": "markdown",
   "id": "pressing-graham",
   "metadata": {},
   "source": [
    "Plot the # of iterations t against the objective function $F(\\beta)$.\n",
    "Assume $\\lambda=5$ and $\\eta=0.5$."
   ]
  },
  {
   "cell_type": "code",
   "execution_count": 74,
   "id": "round-effects",
   "metadata": {},
   "outputs": [],
   "source": [
    "lambda_ = 5\n",
    "lr = 0.5\n",
    "max_iters = 1000\n",
    "beta_0 = np.zeros(X.shape[1])\n",
    "\n",
    "grad_desc_betas = graddescent(beta_0, lr, max_iters, lambda_, X_train, y_train)\n",
    "ridge_function = [objective_f(b, lambda_, X_train, y_train) for b in grad_desc_betas]"
   ]
  },
  {
   "cell_type": "code",
   "execution_count": 75,
   "id": "executed-archives",
   "metadata": {},
   "outputs": [
    {
     "data": {
      "text/plain": [
       "Text(0, 0.5, 'Ridge Function')"
      ]
     },
     "execution_count": 75,
     "metadata": {},
     "output_type": "execute_result"
    },
    {
     "data": {
      "image/png": "[encoded data removed]",
      "text/plain": [
       "<Figure size 432x288 with 1 Axes>"
      ]
     },
     "metadata": {
      "needs_background": "light"
     },
     "output_type": "display_data"
    }
   ],
   "source": [
    "plt.plot(range(max_iters + 1), ridge_function, color = \"cornflowerblue\")\n",
    "plt.title(label = 'Ridge Objective vs. # of Iterations, lambda = 5')\n",
    "plt.xlabel('Number of Iterations')\n",
    "plt.ylabel('Ridge Function')"
   ]
  }
 ],
 "metadata": {
  "kernelspec": {
   "display_name": "Python [conda env:DATA558] *",
   "language": "python",
   "name": "conda-env-DATA558-py"
  },
  "language_info": {
   "codemirror_mode": {
    "name": "ipython",
    "version": 3
   },
   "file_extension": ".py",
   "mimetype": "text/x-python",
   "name": "python",
   "nbconvert_exporter": "python",
   "pygments_lexer": "ipython3",
   "version": "3.7.10"
  }
 },
 "nbformat": 4,
 "nbformat_minor": 5
}
