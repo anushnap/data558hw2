{
 "cells": [
  {
   "cell_type": "markdown",
   "id": "rubber-contemporary",
   "metadata": {},
   "source": [
    "# DATA 558 Homework 2: Coding\n",
    "#### Anushna Prakash\n",
    "#### April 16th, 2021"
   ]
  },
  {
   "cell_type": "markdown",
   "id": "american-premises",
   "metadata": {},
   "source": [
    "### 3.2 Gradient Descent\n",
    "\n",
    "The objective function for Ridge regression is:\n",
    "$$\n",
    "F(\\beta) = \\frac{1}{2n}\\sum_{i=1}^n (y_i - x_i^\\top \\beta)^2 + \\frac{\\lambda}{n} ||\\beta||_2^2,\n",
    "$$\n",
    "\n",
    "Assuming that $d=1$ and $n=1$, then the function can be written as:\n",
    "$$\n",
    "F(\\beta) = \\frac{1}{2}(y - x\\beta)^2 + \\lambda\\beta^2\n",
    "$$\n",
    "\n",
    "The gradient $\\nabla F$ of $F$ can be written as:\n",
    "$$\n",
    "\\nabla F = -x(y - x\\beta) + 2\\lambda\\beta\n",
    "$$\n",
    "\n",
    "Now assuming that $d>1$ and $n>1$ and using the linearity of differentiation, the gradient $\\nabla F(\\beta)$ of $F$ can be written as:\n",
    "$$\n",
    "\\nabla F(\\beta) = \\frac{-1}{n} X(Y - X^\\top\\beta) + \\frac{2}{n} \\lambda\\beta\n",
    "$$"
   ]
  },
  {
   "cell_type": "code",
   "execution_count": 1,
   "id": "falling-nation",
   "metadata": {},
   "outputs": [],
   "source": [
    "import pandas as pd\n",
    "import numpy as np\n",
    "from sklearn.model_selection import train_test_split\n",
    "from sklearn import preprocessing\n",
    "import matplotlib.pyplot as plt\n",
    "from sklearn.linear_model import Ridge"
   ]
  },
  {
   "cell_type": "code",
   "execution_count": 2,
   "id": "little-carbon",
   "metadata": {},
   "outputs": [],
   "source": [
    "# Load the data\n",
    "file = 'https://raw.githubusercontent.com/mwaskom/seaborn-data/master/penguins.csv'\n",
    "penguins = pd.read_csv(file, sep = ',', header = 0)\n",
    "penguins = penguins.dropna()"
   ]
  },
  {
   "cell_type": "code",
   "execution_count": 3,
   "id": "subjective-allowance",
   "metadata": {},
   "outputs": [],
   "source": [
    "# Create our X matrix with the predictors and y vector with the response\n",
    "X = penguins.drop('body_mass_g', axis = 1)\n",
    "X = pd.get_dummies(X, drop_first = True).to_numpy()\n",
    "y = penguins['body_mass_g'].to_numpy()"
   ]
  },
  {
   "cell_type": "markdown",
   "id": "female-delhi",
   "metadata": {},
   "source": [
    "Ridge regression requires data to be transformed into a standard scale. For each observation i in p features of X and the response variable y, we will take:\n",
    "$$Z_{ip} = \\frac{X_{ip} - \\bar{X_{p}}}{\\sigma(X_{p})}$$\n",
    "or:\n",
    "$$Z_{i} = \\frac{y_{i} - \\bar{y}}{\\sigma(y)}$$"
   ]
  },
  {
   "cell_type": "code",
   "execution_count": 4,
   "id": "integrated-matthew",
   "metadata": {},
   "outputs": [],
   "source": [
    "# Transform variables\n",
    "X_transformed = preprocessing.StandardScaler().fit_transform(X)\n",
    "y_transformed = preprocessing.scale(y)\n",
    "# Divide the data into training and test sets. By default, 25% goes into the test set.\n",
    "X_train, X_test, y_train, y_test = train_test_split(X_transformed, y_transformed, random_state = 0)"
   ]
  },
  {
   "cell_type": "code",
   "execution_count": 5,
   "id": "cordless-stroke",
   "metadata": {},
   "outputs": [],
   "source": [
    "def computegrad(beta, lambda_, X, y):\n",
    "    \"\"\"\n",
    "\tParameters\n",
    "\t----------\n",
    "\tbeta : numpy.ndarray\n",
    "\t\tA numpy array of size (p+1,), where p is the number of predictors.\n",
    "    lambda_ : float\n",
    "        Regularization hyperparameter.\n",
    "    X : numpy.ndarray\n",
    "        A numpy array of size (n,p+1), containing the design matrix.\n",
    "    y : numpy.ndarray\n",
    "        A numpy array of size (n,), containing the responses.\n",
    "\n",
    "\tReturns\n",
    "\t-------\n",
    "\tgrad : numpy.ndarray\n",
    "\t\tA numpy array of size (p+1,), containing the gradient dL/dbeta.\n",
    "    \"\"\"\n",
    "    n = X.shape[0]\n",
    "    resid = y - np.dot(X, beta)\n",
    "    grad = -1/n * np.dot(np.transpose(X), resid) + 2/n * lambda_ * beta\n",
    "    \n",
    "    return grad"
   ]
  },
  {
   "cell_type": "code",
   "execution_count": 6,
   "id": "otherwise-noise",
   "metadata": {},
   "outputs": [],
   "source": [
    "def graddescent(init_point, step_size, max_iterations, *args):\n",
    "    \"\"\"Gradient of g.\n",
    "\n",
    "\tParameters\n",
    "\t----------\n",
    "    init_point : numpy.ndarray\n",
    "\t\tA numpy array of size (p+1) where p is the number of predictors. \n",
    "        It is an initial starting point of betas to begin gradient descent.\n",
    "    step_size : float\n",
    "\t\tLearning rate, or step size in optimization.\n",
    "    max_iterations : int\n",
    "\t\tMaximum number of iterations to run GD.\n",
    "    *args : lambda_, X, and Y\n",
    "\n",
    "\tReturns\n",
    "\t-------\n",
    "\titerates : list[numpy.ndarray]\n",
    "\t\tA list of numpy arrays, each of size (d,), containing the iterates of GD.\n",
    "\t\"\"\"\n",
    "    iters = 0 # initialize counter\n",
    "    beta_iters = [init_point]\n",
    "    gradient = computegrad(init_point, *args)\n",
    "    beta = init_point\n",
    "    \n",
    "    while iters < max_iterations:\n",
    "        beta = beta - step_size * gradient\n",
    "        gradient = computegrad(beta, *args)\n",
    "        beta_iters.append(beta)\n",
    "        iters += 1\n",
    "    \n",
    "    return beta_iters"
   ]
  },
  {
   "cell_type": "code",
   "execution_count": 7,
   "id": "indirect-shower",
   "metadata": {},
   "outputs": [],
   "source": [
    "def objective_f(beta, lambda_, X, y):\n",
    "    \"\"\"Computes the objective function F(B) that is minimized by ridge regression.\n",
    "\n",
    "\tParameters\n",
    "\t----------\n",
    "    beta : numpy.ndarray\n",
    "    lambda_ : float\n",
    "    X : numpy.ndarray\n",
    "    y : numpy array\n",
    "\n",
    "\tReturns\n",
    "\t-------\n",
    "\tf : float\n",
    "\t\tThe value of the objective function evaluated using beta.\n",
    "\t\"\"\"\n",
    "    n = X.shape[0]\n",
    "    resid = y - np.dot(X, beta) \n",
    "    f = 1/(2*n) * np.linalg.norm(resid)**2 + lambda_/n * np.linalg.norm(beta)**2\n",
    "    \n",
    "    return f"
   ]
  },
  {
   "cell_type": "markdown",
   "id": "variable-bottom",
   "metadata": {},
   "source": [
    "Plot the # of iterations t against the objective function $F(\\beta)$.\n",
    "Assume $\\lambda=-5$ and $\\eta=0.5$."
   ]
  },
  {
   "cell_type": "code",
   "execution_count": 8,
   "id": "advanced-virus",
   "metadata": {},
   "outputs": [],
   "source": [
    "lambda_ = -5\n",
    "lr = 0.5\n",
    "max_iters = 1000\n",
    "beta_0 = np.zeros(X.shape[1])\n",
    "\n",
    "grad_desc_betas = graddescent(beta_0, lr, max_iters, lambda_, X_train, y_train)\n",
    "ridge_function = [objective_f(b, lambda_, X_train, y_train) for b in grad_desc_betas]"
   ]
  },
  {
   "cell_type": "code",
   "execution_count": 9,
   "id": "confident-robert",
   "metadata": {},
   "outputs": [
    {
     "data": {
      "text/plain": [
       "Text(0, 0.5, 'Ridge Function')"
      ]
     },
     "execution_count": 9,
     "metadata": {},
     "output_type": "execute_result"
    },
    {
     "data": {
      "image/png": "[encoded data removed]",
      "text/plain": [
       "<Figure size 432x288 with 1 Axes>"
      ]
     },
     "metadata": {
      "needs_background": "light"
     },
     "output_type": "display_data"
    }
   ],
   "source": [
    "plt.plot(range(max_iters + 1), ridge_function, color = \"cornflowerblue\")\n",
    "plt.title(label = 'Ridge Objective vs. # of Iterations, lambda = -5')\n",
    "plt.xlabel('Number of Iterations')\n",
    "plt.ylabel('Ridge Function')"
   ]
  },
  {
   "cell_type": "markdown",
   "id": "historical-photography",
   "metadata": {},
   "source": [
    "Plot the # of iterations t against the objective function $F(\\beta)$.\n",
    "Assume $\\lambda=5$ and $\\eta=0.5$."
   ]
  },
  {
   "cell_type": "code",
   "execution_count": 10,
   "id": "destroyed-indication",
   "metadata": {},
   "outputs": [],
   "source": [
    "lambda_ = 5\n",
    "lr = 0.5\n",
    "max_iters = 1000\n",
    "\n",
    "grad_desc_betas = graddescent(beta_0, lr, max_iters, lambda_, X_train, y_train)\n",
    "ridge_function = [objective_f(b, lambda_, X_train, y_train) for b in grad_desc_betas]"
   ]
  },
  {
   "cell_type": "code",
   "execution_count": 11,
   "id": "cloudy-serum",
   "metadata": {},
   "outputs": [
    {
     "data": {
      "text/plain": [
       "Text(0, 0.5, 'Ridge Function')"
      ]
     },
     "execution_count": 11,
     "metadata": {},
     "output_type": "execute_result"
    },
    {
     "data": {
      "image/png": "[encoded data removed]",
      "text/plain": [
       "<Figure size 432x288 with 1 Axes>"
      ]
     },
     "metadata": {
      "needs_background": "light"
     },
     "output_type": "display_data"
    }
   ],
   "source": [
    "plt.plot(range(max_iters + 1), ridge_function, color = \"cornflowerblue\")\n",
    "plt.title(label = 'Ridge Objective vs. # of Iterations, lambda = 5')\n",
    "plt.xlabel('Number of Iterations')\n",
    "plt.ylabel('Ridge Function')"
   ]
  },
  {
   "cell_type": "markdown",
   "id": "elder-horse",
   "metadata": {},
   "source": [
    "$\\beta_{T}$ is the final iteration of my implementation of the gradient descent algorithm. Compare this to $\\beta*$, which is the scikit-learn implementation of the same method."
   ]
  },
  {
   "cell_type": "code",
   "execution_count": 22,
   "id": "discrete-chart",
   "metadata": {},
   "outputs": [
    {
     "name": "stdout",
     "output_type": "stream",
     "text": [
      "Beta_T:  [ 0.1437398   0.02359818  0.31739398 -0.14434135  0.41125418 -0.03414219\n",
      " -0.05917129  0.26524653]\n",
      "Beta*:  [ 0.13122822  0.05190863  0.30820977 -0.1385285   0.46858595 -0.02099226\n",
      " -0.052139    0.26696759]\n",
      "Beta_T - Beta*:  [ 0.01251158 -0.02831046  0.00918421 -0.00581286 -0.05733177 -0.01314993\n",
      " -0.00703229 -0.00172106]\n"
     ]
    }
   ],
   "source": [
    "lambda_ = 5\n",
    "lr = 0.5\n",
    "max_iterations = 1000\n",
    "\n",
    "beta_t = graddescent(beta_0, lr, max_iterations, lambda_, X_train, y_train)[-1]\n",
    "beta_star = Ridge(alpha = lambda_).fit(X_train, y_train).coef_\n",
    "\n",
    "print(\"Beta_T: \", beta_t)\n",
    "print(\"Beta*: \", beta_star)\n",
    "print(\"Beta_T - Beta*: \", (beta_t - beta_star))"
   ]
  },
  {
   "cell_type": "markdown",
   "id": "structural-manitoba",
   "metadata": {},
   "source": [
    "The differences between my implementation and the scikit-learn implementation is small, with each $\\beta$ being within $\\pm0.03$.\n",
    "\n",
    "Below I will experiment with different learning rates to approach scikit-learn, and show that there is no difference in coefficients even after doubling the number of iterations."
   ]
  },
  {
   "cell_type": "code",
   "execution_count": 29,
   "id": "painful-insurance",
   "metadata": {},
   "outputs": [
    {
     "name": "stdout",
     "output_type": "stream",
     "text": [
      "Beta_T:  [ 0.1437398   0.02359818  0.31739398 -0.14434135  0.41125418 -0.03414219\n",
      " -0.05917129  0.26524653]\n",
      "Beta*:  [ 0.13122822  0.05190863  0.30820977 -0.1385285   0.46858595 -0.02099226\n",
      " -0.052139    0.26696759]\n",
      "Beta_T - Beta*:  [ 0.01251158 -0.02831046  0.00918421 -0.00581286 -0.05733177 -0.01314993\n",
      " -0.00703229 -0.00172106]\n"
     ]
    }
   ],
   "source": [
    "lambda_ = 5\n",
    "lr = 0.5\n",
    "max_iterations = 2000\n",
    "\n",
    "beta_t = graddescent(beta_0, lr, max_iterations, lambda_, X_train, y_train)[-1]\n",
    "beta_star = Ridge(alpha = lambda_).fit(X_train, y_train).coef_\n",
    "\n",
    "print(\"Beta_T: \", beta_t)\n",
    "print(\"Beta*: \", beta_star)\n",
    "print(\"Beta_T - Beta*: \", (beta_t - beta_star))"
   ]
  },
  {
   "cell_type": "markdown",
   "id": "widespread-mining",
   "metadata": {},
   "source": [
    "I will also compare on $\\lambda=-5$ with the same $\\eta=0.5$ and 1000 iterations."
   ]
  },
  {
   "cell_type": "code",
   "execution_count": 23,
   "id": "preceding-culture",
   "metadata": {},
   "outputs": [
    {
     "name": "stdout",
     "output_type": "stream",
     "text": [
      "Beta_T:  [-2.17681645  3.72791254 -2.82468521  2.05672539  9.41406439  0.97663407\n",
      "  0.83530056  0.46909392]\n",
      "Beta*:  [ 0.01758883  0.25808985  0.16952169 -0.04499133  0.9369389   0.04894087\n",
      " -0.00135186  0.27456508]\n",
      "Beta_T - Beta*:  [-2.19440528  3.4698227  -2.99420691  2.10171671  8.4771255   0.9276932\n",
      "  0.83665242  0.19452884]\n"
     ]
    }
   ],
   "source": [
    "lambda_ = -5\n",
    "lr = 0.5\n",
    "max_iterations = 1000\n",
    "\n",
    "beta_t = graddescent(beta_0, lr, max_iterations, lambda_, X_train, y_train)[-1]\n",
    "beta_star = Ridge(alpha = lambda_).fit(X_train, y_train).coef_\n",
    "\n",
    "print(\"Beta_T: \", beta_t)\n",
    "print(\"Beta*: \", beta_star)\n",
    "print(\"Beta_T - Beta*: \", (beta_t - beta_star))"
   ]
  },
  {
   "cell_type": "markdown",
   "id": "early-whole",
   "metadata": {},
   "source": [
    "My implementation departs considerably from scikit-learn with negative $\\lambda$."
   ]
  },
  {
   "cell_type": "code",
   "execution_count": 30,
   "id": "impressed-tucson",
   "metadata": {},
   "outputs": [
    {
     "name": "stdout",
     "output_type": "stream",
     "text": [
      "Beta_T:  [-6.9579257  11.2346297  -9.36335652  6.65834542 27.82000976  2.96148806\n",
      "  2.64359772  0.9043875 ]\n",
      "Beta*:  [ 0.01758883  0.25808985  0.16952169 -0.04499133  0.9369389   0.04894087\n",
      " -0.00135186  0.27456508]\n",
      "Beta_T - Beta*:  [-6.97551453 10.97653985 -9.53287822  6.70333674 26.88307087  2.91254719\n",
      "  2.64494958  0.62982242]\n"
     ]
    }
   ],
   "source": [
    "lambda_ = -5\n",
    "lr = 0.5\n",
    "max_iterations = 2000\n",
    "\n",
    "beta_t = graddescent(beta_0, lr, max_iterations, lambda_, X_train, y_train)[-1]\n",
    "beta_star = Ridge(alpha = lambda_).fit(X_train, y_train).coef_\n",
    "\n",
    "print(\"Beta_T: \", beta_t)\n",
    "print(\"Beta*: \", beta_star)\n",
    "print(\"Beta_T - Beta*: \", (beta_t - beta_star))"
   ]
  },
  {
   "cell_type": "markdown",
   "id": "documented-azerbaijan",
   "metadata": {},
   "source": [
    "The variance only increases as the number of iterations are increased."
   ]
  },
  {
   "cell_type": "code",
   "execution_count": 47,
   "id": "specialized-spirit",
   "metadata": {},
   "outputs": [],
   "source": [
    "etas = np.logspace(-10, 0)\n",
    "max_iterations = 1000\n",
    "lambda_ = 5\n",
    "results = np.zeros((len(etas), 2))\n",
    "\n",
    "for i, e in enumerate(etas):\n",
    "    # Get optimal betas from gradient descent using varying learning rates\n",
    "    b = graddescent(beta_0, e, max_iterations, lambda_, X_train, y_train)[-1]\n",
    "    results[i, 0] = e\n",
    "    results[i, 1] = objective_f(b, lambda_, X_train, y_train)\n",
    "\n",
    "results_df = pd.DataFrame(results, columns = ['eta', 'f'])"
   ]
  },
  {
   "cell_type": "code",
   "execution_count": 48,
   "id": "tamil-console",
   "metadata": {},
   "outputs": [
    {
     "data": {
      "text/plain": [
       "Text(0, 0.5, 'Objective F value')"
      ]
     },
     "execution_count": 48,
     "metadata": {},
     "output_type": "execute_result"
    },
    {
     "data": {
      "image/png": "[encoded data removed]",
      "text/plain": [
       "<Figure size 432x288 with 1 Axes>"
      ]
     },
     "metadata": {
      "needs_background": "light"
     },
     "output_type": "display_data"
    }
   ],
   "source": [
    "plt.plot(results_df['eta'], results_df['f'], color = \"cornflowerblue\")\n",
    "plt.xlabel('Learning rate values')\n",
    "plt.ylabel('Objective F value')"
   ]
  },
  {
   "cell_type": "code",
   "execution_count": 57,
   "id": "joint-clinic",
   "metadata": {},
   "outputs": [
    {
     "data": {
      "text/plain": [
       "array([0.39069399])"
      ]
     },
     "execution_count": 57,
     "metadata": {},
     "output_type": "execute_result"
    }
   ],
   "source": [
    "# Learning rate that minimizes objective function\n",
    "min_eta = results_df['eta'][results_df['f'] == results_df['f'].min()].values\n",
    "min_eta"
   ]
  },
  {
   "cell_type": "code",
   "execution_count": 60,
   "id": "chinese-occasions",
   "metadata": {},
   "outputs": [
    {
     "name": "stdout",
     "output_type": "stream",
     "text": [
      "Beta_T:  [ 0.1437398   0.02359818  0.31739398 -0.14434135  0.41125418 -0.03414219\n",
      " -0.05917129  0.26524653]\n",
      "Beta*:  [ 0.13122822  0.05190863  0.30820977 -0.1385285   0.46858595 -0.02099226\n",
      " -0.052139    0.26696759]\n",
      "Beta_T - Beta*:  [ 0.01251158 -0.02831046  0.00918421 -0.00581286 -0.05733177 -0.01314993\n",
      " -0.00703229 -0.00172106]\n"
     ]
    }
   ],
   "source": [
    "lambda_ = 5\n",
    "lr = min_eta\n",
    "max_iterations = 1000\n",
    "\n",
    "beta_t = graddescent(beta_0, lr, max_iterations, lambda_, X_train, y_train)[-1]\n",
    "beta_star = Ridge(alpha = lambda_).fit(X_train, y_train).coef_\n",
    "\n",
    "print(\"Beta_T: \", beta_t)\n",
    "print(\"Beta*: \", beta_star)\n",
    "print(\"Beta_T - Beta*: \", (beta_t - beta_star))"
   ]
  }
 ],
 "metadata": {
  "kernelspec": {
   "display_name": "Python [conda env:DATA558] *",
   "language": "python",
   "name": "conda-env-DATA558-py"
  },
  "language_info": {
   "codemirror_mode": {
    "name": "ipython",
    "version": 3
   },
   "file_extension": ".py",
   "mimetype": "text/x-python",
   "name": "python",
   "nbconvert_exporter": "python",
   "pygments_lexer": "ipython3",
   "version": "3.7.10"
  }
 },
 "nbformat": 4,
 "nbformat_minor": 5
}
