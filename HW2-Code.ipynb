{
 "cells": [
  {
   "cell_type": "markdown",
   "metadata": {},
   "source": [
    "# DATA 558 Homework 2: Coding\n",
    "#### Anushna Prakash\n",
    "#### April 16th, 2021"
   ]
  },
  {
   "cell_type": "markdown",
   "metadata": {},
   "source": [
    "### 3.2 Gradient Descent\n",
    "\n",
    "The objective function for Ridge regression is:\n",
    "$$\n",
    "F(\\beta) = \\frac{1}{2n}\\sum_{i=1}^n (y_i - x_i^\\top \\beta)^2 + \\frac{\\lambda}{n} ||\\beta||_2^2,\n",
    "$$\n",
    "\n",
    "Assuming that $d=1$ and $n=1$, then the function can be written as:\n",
    "$$\n",
    "F(\\beta) = \\frac{1}{2}(y - x\\beta)^2 + \\lambda\\beta^2\n",
    "$$\n",
    "\n",
    "The gradient $\\nabla F$ of $F$ can be written as:\n",
    "$$\n",
    "\\nabla F = -x(y - x\\beta) + 2\\lambda\\beta\n",
    "$$\n",
    "\n",
    "Now assuming that $d>1$ and $n>1$ and using the linearity of differentiation, the gradient $\\nabla F(\\beta)$ of $F$ can be written as:\n",
    "$$\n",
    "\\nabla F(\\beta) = \\frac{-1}{n} X(Y - X^\\top\\beta) + \\frac{2}{n} \\lambda\\beta\n",
    "$$"
   ]
  },
  {
   "cell_type": "code",
   "execution_count": 1,
   "metadata": {},
   "outputs": [],
   "source": [
    "import pandas as pd\n",
    "import numpy as np\n",
    "from sklearn.model_selection import train_test_split\n",
    "from sklearn import preprocessing\n",
    "import matplotlib.pyplot as plt\n",
    "from sklearn.linear_model import Ridge"
   ]
  },
  {
   "cell_type": "code",
   "execution_count": 2,
   "metadata": {},
   "outputs": [],
   "source": [
    "# Load the data\n",
    "file = 'https://raw.githubusercontent.com/mwaskom/seaborn-data/master/penguins.csv'\n",
    "penguins = pd.read_csv(file, sep = ',', header = 0)\n",
    "penguins = penguins.dropna()"
   ]
  },
  {
   "cell_type": "code",
   "execution_count": 4,
   "metadata": {},
   "outputs": [],
   "source": [
    "# Create our X matrix with the predictors and y vector with the response\n",
    "X = penguins.drop('body_mass_g', axis = 1)\n",
    "X = pd.get_dummies(X, drop_first = True).to_numpy()\n",
    "y = penguins['body_mass_g'].to_numpy()\n",
    "\n",
    "# Divide the data into training and test sets. By default, 25% goes into the test set.\n",
    "X_train, X_test, y_train, y_test = train_test_split(X, y, random_state = 0)"
   ]
  },
  {
   "cell_type": "markdown",
   "metadata": {},
   "source": [
    "Ridge regression requires data to be transformed into a standard scale. For each observation i in p features of X and the response variable y, we will take:\n",
    "$$Z_{ip} = \\frac{X_{ip} - \\bar{X_{p}}}{\\sigma(X_{p})}$$\n",
    "or:\n",
    "$$Z_{i} = \\frac{y_{i} - \\bar{y}}{\\sigma(y)}$$"
   ]
  },
  {
   "cell_type": "code",
   "execution_count": 6,
   "metadata": {},
   "outputs": [],
   "source": [
    "# Transform X\n",
    "X_scaler = preprocessing.StandardScaler().fit(X_train)\n",
    "X_train = X_scaler.transform(X_train)\n",
    "X_test = X_scaler.transform(X_test)\n",
    "\n",
    "# Transform y\n",
    "y_mean = y_train.mean(axis = 0)\n",
    "y_sd = y_train.std(axis = 0)\n",
    "y_train = (y_train - y_mean) / y_sd\n",
    "y_test = (y_test - y_mean) / y_sd"
   ]
  },
  {
   "cell_type": "code",
   "execution_count": 7,
   "metadata": {},
   "outputs": [],
   "source": [
    "def computegrad(beta, lambda_, X, y):\n",
    "    \"\"\"\n",
    "\tParameters\n",
    "\t----------\n",
    "\tbeta : numpy.ndarray\n",
    "\t\tA numpy array of size (p+1,), where p is the number of predictors.\n",
    "    lambda_ : float\n",
    "        Regularization hyperparameter.\n",
    "    X : numpy.ndarray\n",
    "        A numpy array of size (n,p+1), containing the design matrix.\n",
    "    y : numpy.ndarray\n",
    "        A numpy array of size (n,), containing the responses.\n",
    "\n",
    "\tReturns\n",
    "\t-------\n",
    "\tgrad : numpy.ndarray\n",
    "\t\tA numpy array of size (p+1,), containing the gradient dL/dbeta.\n",
    "    \"\"\"\n",
    "    n = X.shape[0]\n",
    "    resid = y - np.dot(X, beta)\n",
    "    grad = -1/n * np.dot(np.transpose(X), resid) + 2/n * lambda_ * beta\n",
    "    \n",
    "    return grad"
   ]
  },
  {
   "cell_type": "code",
   "execution_count": 8,
   "metadata": {},
   "outputs": [],
   "source": [
    "def graddescent(init_point, step_size, max_iterations, *args):\n",
    "    \"\"\"Gradient of g.\n",
    "\n",
    "\tParameters\n",
    "\t----------\n",
    "    init_point : numpy.ndarray\n",
    "\t\tA numpy array of size (p+1) where p is the number of predictors. \n",
    "        It is an initial starting point of betas to begin gradient descent.\n",
    "    step_size : float\n",
    "\t\tLearning rate, or step size in optimization.\n",
    "    max_iterations : int\n",
    "\t\tMaximum number of iterations to run GD.\n",
    "    *args : lambda_, X, and Y\n",
    "\n",
    "\tReturns\n",
    "\t-------\n",
    "\titerates : list[numpy.ndarray]\n",
    "\t\tA list of numpy arrays, each of size (d,), containing the iterates of GD.\n",
    "\t\"\"\"\n",
    "    iters = 0 # initialize counter\n",
    "    beta_iters = [init_point]\n",
    "    gradient = computegrad(init_point, *args)\n",
    "    beta = init_point\n",
    "    \n",
    "    while iters < max_iterations:\n",
    "        beta = beta - step_size * gradient\n",
    "        gradient = computegrad(beta, *args)\n",
    "        beta_iters.append(beta)\n",
    "        iters += 1\n",
    "    \n",
    "    return beta_iters"
   ]
  },
  {
   "cell_type": "code",
   "execution_count": 9,
   "metadata": {},
   "outputs": [],
   "source": [
    "def objective_f(beta, lambda_, X, y):\n",
    "    \"\"\"Computes the objective function F(B) that is minimized by ridge regression.\n",
    "\n",
    "\tParameters\n",
    "\t----------\n",
    "    beta : numpy.ndarray\n",
    "    lambda_ : float\n",
    "    X : numpy.ndarray\n",
    "    y : numpy array\n",
    "\n",
    "\tReturns\n",
    "\t-------\n",
    "\tf : float\n",
    "\t\tThe value of the objective function evaluated using beta.\n",
    "\t\"\"\"\n",
    "    n = X.shape[0]\n",
    "    resid = y - np.dot(X, beta) \n",
    "    f = 1/(2*n) * np.linalg.norm(resid)**2 + lambda_/n * np.linalg.norm(beta)**2\n",
    "    \n",
    "    return f"
   ]
  },
  {
   "cell_type": "markdown",
   "metadata": {},
   "source": [
    "Plot the # of iterations t against the objective function $F(\\beta)$.\n",
    "Assume $\\lambda=-5$ and $\\eta=0.5$."
   ]
  },
  {
   "cell_type": "code",
   "execution_count": 10,
   "metadata": {},
   "outputs": [],
   "source": [
    "lambda_ = -5\n",
    "lr = 0.5\n",
    "max_iters = 1000\n",
    "beta_0 = np.zeros(X.shape[1])\n",
    "\n",
    "grad_desc_betas = graddescent(beta_0, lr, max_iters, lambda_, X_train, y_train)\n",
    "ridge_function = [objective_f(b, lambda_, X_train, y_train) for b in grad_desc_betas]"
   ]
  },
  {
   "cell_type": "code",
   "execution_count": 11,
   "metadata": {},
   "outputs": [
    {
     "data": {
      "text/plain": [
       "Text(0, 0.5, 'Ridge Function')"
      ]
     },
     "execution_count": 11,
     "metadata": {},
     "output_type": "execute_result"
    },
    {
     "data": {
      "image/png": "[encoded data removed]",
      "text/plain": [
       "<Figure size 432x288 with 1 Axes>"
      ]
     },
     "metadata": {
      "needs_background": "light"
     },
     "output_type": "display_data"
    }
   ],
   "source": [
    "plt.plot(range(max_iters + 1), ridge_function, color = \"cornflowerblue\")\n",
    "plt.title(label = 'Ridge Objective vs. # of Iterations, lambda = -5')\n",
    "plt.xlabel('Number of Iterations')\n",
    "plt.ylabel('Ridge Function')"
   ]
  },
  {
   "cell_type": "markdown",
   "metadata": {},
   "source": [
    "Plot the # of iterations t against the objective function $F(\\beta)$.\n",
    "Assume $\\lambda=.05$ and $\\eta=0.5$."
   ]
  },
  {
   "cell_type": "code",
   "execution_count": 12,
   "metadata": {},
   "outputs": [],
   "source": [
    "lambda_ = .05\n",
    "lr = 0.5\n",
    "max_iters = 1000\n",
    "\n",
    "# Calculate results\n",
    "grad_desc_betas = graddescent(beta_0, lr, max_iters, lambda_, X_train, y_train)\n",
    "ridge_function = [objective_f(b, lambda_, X_train, y_train) for b in grad_desc_betas]"
   ]
  },
  {
   "cell_type": "code",
   "execution_count": 13,
   "metadata": {},
   "outputs": [
    {
     "data": {
      "text/plain": [
       "Text(0, 0.5, 'Ridge Function')"
      ]
     },
     "execution_count": 13,
     "metadata": {},
     "output_type": "execute_result"
    },
    {
     "data": {
      "image/png": "[encoded data removed]",
      "text/plain": [
       "<Figure size 432x288 with 1 Axes>"
      ]
     },
     "metadata": {
      "needs_background": "light"
     },
     "output_type": "display_data"
    }
   ],
   "source": [
    "# Plot results\n",
    "plt.plot(range(max_iters + 1), ridge_function, color = \"cornflowerblue\")\n",
    "plt.title(label = 'Ridge Objective vs. # of Iterations, lambda = .05')\n",
    "plt.xlabel('Number of Iterations')\n",
    "plt.ylabel('Ridge Function')"
   ]
  },
  {
   "cell_type": "markdown",
   "metadata": {},
   "source": [
    "$\\beta_{T}$ is the final iteration of my implementation of the gradient descent algorithm. Compare this to $\\beta*$, which is the scikit-learn implementation of the same method."
   ]
  },
  {
   "cell_type": "code",
   "execution_count": 14,
   "metadata": {},
   "outputs": [
    {
     "name": "stdout",
     "output_type": "stream",
     "text": [
      "Beta_T:  [ 0.10612898  0.1071633   0.27768522 -0.12516612  0.58926332 -0.00060885\n",
      " -0.03824052  0.27130432]\n",
      "Beta*:  [ 1.05726103e-01  1.07975282e-01  2.77200565e-01 -1.24846034e-01\n",
      "  5.91031737e-01 -3.16965703e-04 -3.80511179e-02  2.71328189e-01]\n",
      "Beta_T - Beta*:  [ 4.02881490e-04 -8.11979775e-04  4.84656577e-04 -3.20084399e-04\n",
      " -1.76842103e-03 -2.91881576e-04 -1.89397507e-04 -2.38709836e-05]\n"
     ]
    }
   ],
   "source": [
    "lambda_ = .05\n",
    "lr = 0.5\n",
    "max_iterations = 1000\n",
    "\n",
    "# Calculate B_t and B*\n",
    "beta_t = graddescent(beta_0, lr, max_iterations, lambda_, X_train, y_train)[-1]\n",
    "beta_star = Ridge(alpha = lambda_).fit(X_train, y_train).coef_\n",
    "\n",
    "print(\"Beta_T: \", beta_t)\n",
    "print(\"Beta*: \", beta_star)\n",
    "print(\"Beta_T - Beta*: \", (beta_t - beta_star))"
   ]
  },
  {
   "cell_type": "markdown",
   "metadata": {},
   "source": [
    "The differences between my implementation and the scikit-learn implementation is small, with each $\\beta$ being within $\\pm0.002$.\n",
    "\n",
    "Below I will experiment with different learning rates to approach scikit-learn, and show that there is no difference in coefficients even after doubling the number of iterations."
   ]
  },
  {
   "cell_type": "code",
   "execution_count": 15,
   "metadata": {},
   "outputs": [
    {
     "name": "stdout",
     "output_type": "stream",
     "text": [
      "Beta_T:  [ 0.10612898  0.1071633   0.27768522 -0.12516612  0.58926332 -0.00060885\n",
      " -0.03824052  0.27130432]\n",
      "Beta*:  [ 1.05726103e-01  1.07975282e-01  2.77200565e-01 -1.24846034e-01\n",
      "  5.91031737e-01 -3.16965703e-04 -3.80511179e-02  2.71328189e-01]\n",
      "Beta_T - Beta*:  [ 4.02881222e-04 -8.11979341e-04  4.84656227e-04 -3.20084135e-04\n",
      " -1.76842000e-03 -2.91881465e-04 -1.89397411e-04 -2.38709617e-05]\n"
     ]
    }
   ],
   "source": [
    "lambda_ = .05\n",
    "lr = 0.5\n",
    "max_iterations = 2000\n",
    "\n",
    "# Calculate B_T and B*\n",
    "beta_t = graddescent(beta_0, lr, max_iterations, lambda_, X_train, y_train)[-1]\n",
    "beta_star = Ridge(alpha = lambda_).fit(X_train, y_train).coef_\n",
    "\n",
    "print(\"Beta_T: \", beta_t)\n",
    "print(\"Beta*: \", beta_star)\n",
    "print(\"Beta_T - Beta*: \", (beta_t - beta_star))"
   ]
  },
  {
   "cell_type": "markdown",
   "metadata": {},
   "source": [
    "I will also compare on $\\lambda=-5$ with the same $\\eta=0.5$ and 1000 iterations."
   ]
  },
  {
   "cell_type": "code",
   "execution_count": 16,
   "metadata": {},
   "outputs": [
    {
     "name": "stdout",
     "output_type": "stream",
     "text": [
      "Beta_T:  [-2.48061023  4.34534027 -3.10077571  2.40865162 10.62446231  1.10450304\n",
      "  0.90032332  0.47632756]\n",
      "Beta*:  [ 1.56033388e-02  2.73855884e-01  1.62297805e-01 -4.44177922e-02\n",
      "  9.65973968e-01  5.16806481e-02 -1.99577448e-04  2.76727501e-01]\n",
      "Beta_T - Beta*:  [-2.49621357  4.07148438 -3.26307352  2.45306942  9.65848834  1.05282239\n",
      "  0.9005229   0.19960006]\n"
     ]
    }
   ],
   "source": [
    "lambda_ = -5\n",
    "lr = 0.5\n",
    "max_iterations = 1000\n",
    "\n",
    "# Calculate B_T and B_*\n",
    "beta_t = graddescent(beta_0, lr, max_iterations, lambda_, X_train, y_train)[-1]\n",
    "beta_star = Ridge(alpha = lambda_).fit(X_train, y_train).coef_\n",
    "\n",
    "print(\"Beta_T: \", beta_t)\n",
    "print(\"Beta*: \", beta_star)\n",
    "print(\"Beta_T - Beta*: \", (beta_t - beta_star))"
   ]
  },
  {
   "cell_type": "markdown",
   "metadata": {},
   "source": [
    "My implementation departs considerably from scikit-learn with negative $\\lambda$."
   ]
  },
  {
   "cell_type": "code",
   "execution_count": 17,
   "metadata": {},
   "outputs": [
    {
     "name": "stdout",
     "output_type": "stream",
     "text": [
      "Beta_T:  [ -8.94503161  14.80469143 -11.54206982   8.78698261  35.51070022\n",
      "   3.77737578   3.20928403   1.00655219]\n",
      "Beta*:  [ 1.56033388e-02  2.73855884e-01  1.62297805e-01 -4.44177922e-02\n",
      "  9.65973968e-01  5.16806481e-02 -1.99577448e-04  2.76727501e-01]\n",
      "Beta_T - Beta*:  [ -8.96063495  14.53083554 -11.70436763   8.83140041  34.54472625\n",
      "   3.72569513   3.2094836    0.72982469]\n"
     ]
    }
   ],
   "source": [
    "lambda_ = -5\n",
    "lr = 0.5\n",
    "max_iterations = 2000\n",
    "\n",
    "# Calculate Beta_T and Beta*\n",
    "beta_t = graddescent(beta_0, lr, max_iterations, lambda_, X_train, y_train)[-1]\n",
    "beta_star = Ridge(alpha = lambda_).fit(X_train, y_train).coef_\n",
    "\n",
    "print(\"Beta_T: \", beta_t)\n",
    "print(\"Beta*: \", beta_star)\n",
    "print(\"Beta_T - Beta*: \", (beta_t - beta_star))"
   ]
  },
  {
   "cell_type": "markdown",
   "metadata": {},
   "source": [
    "The variance only increases as the number of iterations are increased.\n",
    "\n",
    "Next, I will test different values for $\\eta$ to obtain the optimal learning rate."
   ]
  },
  {
   "cell_type": "code",
   "execution_count": 18,
   "metadata": {},
   "outputs": [],
   "source": [
    "etas = np.logspace(-3, 1)\n",
    "max_iterations = 1000\n",
    "lambda_ = .05\n",
    "results = np.zeros((len(etas), 2))\n",
    "\n",
    "for i, e in enumerate(etas):\n",
    "    # Get optimal betas from gradient descent using varying learning rates\n",
    "    b = graddescent(beta_0, e, max_iterations, lambda_, X_train, y_train)[-1]\n",
    "    results[i, 0] = e\n",
    "    results[i, 1] = objective_f(b, lambda_, X_train, y_train)\n",
    "\n",
    "results_df = pd.DataFrame(results, columns = ['eta', 'f'])\n",
    "\n",
    "# Save learning rate that minimizes objective function\n",
    "min_eta = results_df['eta'][results_df['f'] == results_df['f'].min()].values\n",
    "min_eta"
   ]
  },
  {
   "cell_type": "code",
   "execution_count": 19,
   "metadata": {},
   "outputs": [
    {
     "data": {
      "text/plain": [
       "Text(0, 0.5, 'Objective F value')"
      ]
     },
     "execution_count": 19,
     "metadata": {},
     "output_type": "execute_result"
    },
    {
     "data": {
      "image/png": "[encoded data removed]",
      "text/plain": [
       "<Figure size 432x288 with 1 Axes>"
      ]
     },
     "metadata": {
      "needs_background": "light"
     },
     "output_type": "display_data"
    }
   ],
   "source": [
    "plt.plot(results_df['eta'], results_df['f'], color = \"cornflowerblue\")\n",
    "plt.xlabel('Learning rate values')\n",
    "plt.ylabel('Objective F value')"
   ]
  },
  {
   "cell_type": "markdown",
   "metadata": {},
   "source": [
    "Re-run gradient descent for ridge regression using the optimal learning rate."
   ]
  },
  {
   "cell_type": "code",
   "execution_count": 21,
   "metadata": {},
   "outputs": [
    {
     "name": "stdout",
     "output_type": "stream",
     "text": [
      "Beta_T - Beta*:  [ 4.02881560e-04 -8.11979887e-04  4.84656668e-04 -3.20084468e-04\n",
      " -1.76842130e-03 -2.91881605e-04 -1.89397532e-04 -2.38709894e-05]\n",
      "F_T - F_star:  -9.188155949968468e-08\n"
     ]
    }
   ],
   "source": [
    "lambda_ = .05\n",
    "lr = min_eta\n",
    "max_iterations = 1000\n",
    "\n",
    "# Calculate B_T and B*\n",
    "beta_t = graddescent(beta_0, lr, max_iterations, lambda_, X_train, y_train)[-1]\n",
    "beta_star = Ridge(alpha = lambda_).fit(X_train, y_train).coef_\n",
    "print(\"Beta_T - Beta*: \", (beta_t - beta_star))\n",
    "\n",
    "# Calculate F(B_t) and F(B*)\n",
    "f_t = objective_f(beta_t, lambda_, X_train, y_train)\n",
    "f_star = objective_f(beta_star, lambda_, X_train, y_train)\n",
    "print(\"F_T - F_star: \", (f_t - f_star))"
   ]
  },
  {
   "cell_type": "markdown",
   "metadata": {},
   "source": [
    "My $\\beta_{T}$ does not differ greatly from scikit-learn's $\\beta*$. However, $F(\\beta_{T}) < F(\\beta*)$. This indicates that scikit-learn's implementation does not minimize the exact ridge function that my implementation minimizes, which is:\n",
    "$$\n",
    "F(\\beta) = \\frac{1}{2n}\\sum_{i=1}^n (y_i - x_i^\\top \\beta)^2 + \\frac{\\lambda}{n} ||\\beta||_2^2,\n",
    "$$\n",
    "It's possible that scikit-learn's ridge regression function is specified slightly differently. Or, it is also possible that scikit-learn assumes a different $\\eta$ for the learning rate, one which is slightly different from the minimum I found.\n",
    "\n",
    "Now I'll change the stopping criteria to be from number of iterations to be $\\epsilon$-stationary condition, such that $||\\nabla F(\\beta)|| \\leq \\epsilon$."
   ]
  },
  {
   "cell_type": "code",
   "execution_count": 24,
   "metadata": {},
   "outputs": [],
   "source": [
    "def graddescent_e(init_point, step_size, tolerance, *args):\n",
    "    \"\"\"Gradient of g.\n",
    "\n",
    "\tParameters\n",
    "\t----------\n",
    "    init_point : numpy.ndarray\n",
    "\t\tA numpy array of size (p+1) where p is the number of predictors. \n",
    "        It is an initial starting point of betas to begin gradient descent.\n",
    "    step_size : float\n",
    "\t\tLearning rate, or step size in optimization.\n",
    "    tolerance : float\n",
    "        Run gradient descent until gradient is less than or equal to tolerance.\n",
    "    *args : lambda_, X, and Y\n",
    "\n",
    "\tReturns\n",
    "\t-------\n",
    "\tbeta_iters : list[numpy.ndarray]\n",
    "\t\tA list of numpy arrays, each of size (d,), containing the iterates of GD.\n",
    "\t\"\"\"\n",
    "    beta_iters = [init_point]\n",
    "    gradient = computegrad(init_point, *args)\n",
    "    beta = init_point\n",
    "    \n",
    "    while np.linalg.norm(gradient)**2 > tolerance:\n",
    "        beta = beta - step_size * gradient\n",
    "        gradient = computegrad(beta, *args)\n",
    "        beta_iters.append(beta)\n",
    "    \n",
    "    return beta_iters"
   ]
  },
  {
   "cell_type": "markdown",
   "metadata": {},
   "source": [
    "Run the updated gradient descent algorithm for ridge regression using an error tolerance instead of number of iterations."
   ]
  },
  {
   "cell_type": "code",
   "execution_count": 25,
   "metadata": {},
   "outputs": [
    {
     "data": {
      "text/plain": [
       "Text(0, 0.5, 'Ridge Function')"
      ]
     },
     "execution_count": 25,
     "metadata": {},
     "output_type": "execute_result"
    },
    {
     "data": {
      "image/png": "[encoded data removed]",
      "text/plain": [
       "<Figure size 432x288 with 1 Axes>"
      ]
     },
     "metadata": {
      "needs_background": "light"
     },
     "output_type": "display_data"
    }
   ],
   "source": [
    "lambda_ = .05\n",
    "lr = 0.5\n",
    "tolerance = .005\n",
    "\n",
    "# Calculate results\n",
    "grad_desc_betas = graddescent_e(beta_0, lr, tolerance, lambda_, X_train, y_train)\n",
    "ridge_function = [objective_f(b, lambda_, X_train, y_train) for b in grad_desc_betas]\n",
    "\n",
    "# Create plots\n",
    "plt.plot(range(len(ridge_function)), ridge_function, color = \"cornflowerblue\")\n",
    "plt.title(label = 'Ridge Objective vs. # of Iterations, lambda = .05')\n",
    "plt.xlabel('Number of Iterations')\n",
    "plt.ylabel('Ridge Function')"
   ]
  },
  {
   "cell_type": "markdown",
   "metadata": {},
   "source": [
    "The algorithm stops iterating on gradient descent after roughly 10 iterations until it gets within the tolerance. The ridge function decreases exponentially, making progressively smaller steps as the number of iterations increases."
   ]
  },
  {
   "cell_type": "code",
   "execution_count": 26,
   "metadata": {},
   "outputs": [
    {
     "name": "stdout",
     "output_type": "stream",
     "text": [
      "Beta_T:  [ 0.17299254 -0.04499575  0.34790864 -0.16700237  0.31289569 -0.07998746\n",
      " -0.08344694  0.28767493]\n",
      "Beta*:  [ 1.05726103e-01  1.07975282e-01  2.77200565e-01 -1.24846034e-01\n",
      "  5.91031737e-01 -3.16965703e-04 -3.80511179e-02  2.71328189e-01]\n",
      "Beta_T - Beta*:  [ 0.06726644 -0.15297103  0.07070807 -0.04215634 -0.27813605 -0.07967049\n",
      " -0.04539582  0.01634674]\n"
     ]
    }
   ],
   "source": [
    "lambda_ = .05\n",
    "lr = 0.5\n",
    "tolerance = 0.005\n",
    "\n",
    "# Calculate B_T and B*\n",
    "beta_t = graddescent_e(beta_0, lr, tolerance, lambda_, X_train, y_train)[-1]\n",
    "beta_star = Ridge(alpha = lambda_).fit(X_train, y_train).coef_\n",
    "\n",
    "print(\"Beta_T: \", beta_t)\n",
    "print(\"Beta*: \", beta_star)\n",
    "print(\"Beta_T - Beta*: \", (beta_t - beta_star))"
   ]
  },
  {
   "cell_type": "markdown",
   "metadata": {},
   "source": [
    "Setting the tolerance $\\epsilon = .005$ as the stopping condition leads to significantly different optimal betas between the two implementations."
   ]
  },
  {
   "cell_type": "code",
   "execution_count": 27,
   "metadata": {},
   "outputs": [
    {
     "data": {
      "text/plain": [
       "Text(0, 0.5, 'Objective F value')"
      ]
     },
     "execution_count": 27,
     "metadata": {},
     "output_type": "execute_result"
    },
    {
     "data": {
      "image/png": "[encoded data removed]",
      "text/plain": [
       "<Figure size 432x288 with 1 Axes>"
      ]
     },
     "metadata": {
      "needs_background": "light"
     },
     "output_type": "display_data"
    }
   ],
   "source": [
    "etas = np.logspace(-3, 1)\n",
    "tolerance = .005\n",
    "lambda_ = .05\n",
    "results = np.zeros((len(etas), 2))\n",
    "\n",
    "for i, e in enumerate(etas):\n",
    "    # Get optimal betas from gradient descent using varying learning rates\n",
    "    b = graddescent_e(beta_0, e, tolerance, lambda_, X_train, y_train)[-1]\n",
    "    results[i, 0] = e\n",
    "    results[i, 1] = objective_f(b, lambda_, X_train, y_train)\n",
    "\n",
    "results_df = pd.DataFrame(results, columns = ['eta', 'f'])\n",
    "min_eta = results_df['eta'][results_df['f'] == results_df['f'].min()].values\n",
    "\n",
    "# Plot results\n",
    "plt.plot(results_df['eta'], results_df['f'], color = \"cornflowerblue\")\n",
    "plt.xlabel('Learning rate values')\n",
    "plt.ylabel('Objective F value')"
   ]
  },
  {
   "cell_type": "markdown",
   "metadata": {},
   "source": [
    "Using the error tolerance as a parameter leads to an interesting shape of the objective F being minimized with variable learning rates, but validates previous findings that values around $\\eta=0.5$ are optimal."
   ]
  },
  {
   "cell_type": "code",
   "execution_count": 28,
   "metadata": {},
   "outputs": [
    {
     "name": "stdout",
     "output_type": "stream",
     "text": [
      "Beta_T - Beta*:  [ 0.06660729 -0.15149366  0.0685847  -0.04093475 -0.28094337 -0.07871482\n",
      " -0.04506106  0.01669291]\n",
      "F_T - F_star:  0.0030430629470064863\n"
     ]
    }
   ],
   "source": [
    "lambda_ = .05\n",
    "lr = min_eta\n",
    "tolerance = .005\n",
    "\n",
    "# Calculate B_T and B*\n",
    "beta_t = graddescent_e(beta_0, lr, tolerance, lambda_, X_train, y_train)[-1]\n",
    "beta_star = Ridge(alpha = lambda_).fit(X_train, y_train).coef_\n",
    "print(\"Beta_T - Beta*: \", (beta_t - beta_star))\n",
    "\n",
    "# Calculate F(B_T) and F(B*)\n",
    "f_t = objective_f(beta_t, lambda_, X_train, y_train)\n",
    "f_star = objective_f(beta_star, lambda_, X_train, y_train)\n",
    "print(\"F_T - F_star: \", (f_t - f_star))"
   ]
  },
  {
   "cell_type": "markdown",
   "metadata": {},
   "source": [
    "Using the version of descent with the stopping condition set to $\\epsilon=.005$ performs worse at minimization of the objective function compared to scikit-learn's implementation. This is presumably because it does not necessarily find the global minimum - the algorithm stops when it within some variable tolerance of the minimum. We trade off the computing power required (this method runs fewer iterations) for worse results."
   ]
  },
  {
   "cell_type": "markdown",
   "metadata": {},
   "source": [
    "## Exercise 4"
   ]
  },
  {
   "cell_type": "code",
   "execution_count": 30,
   "metadata": {},
   "outputs": [],
   "source": [
    "import statsmodels.api as sm"
   ]
  },
  {
   "cell_type": "code",
   "execution_count": 31,
   "metadata": {},
   "outputs": [
    {
     "name": "stdout",
     "output_type": "stream",
     "text": [
      "(397, 9)\n",
      "(392, 9)\n"
     ]
    }
   ],
   "source": [
    "# Import data and drop NAs.\n",
    "url = 'https://www.statlearning.com/s/Auto.csv'\n",
    "auto = pd.read_csv(url, sep = ',', header = 0, na_values = '?')\n",
    "print(auto.shape)\n",
    "auto.dropna(axis = 0, inplace = True)\n",
    "print(auto.shape)"
   ]
  },
  {
   "cell_type": "code",
   "execution_count": 32,
   "metadata": {},
   "outputs": [],
   "source": [
    "# Add a column of 1s for the intercept\n",
    "auto['constant'] = 1"
   ]
  },
  {
   "cell_type": "code",
   "execution_count": 33,
   "metadata": {},
   "outputs": [
    {
     "data": {
      "text/html": [
       "<table class=\"simpletable\">\n",
       "<caption>OLS Regression Results</caption>\n",
       "<tr>\n",
       "  <th>Dep. Variable:</th>           <td>mpg</td>       <th>  R-squared:         </th> <td>   0.693</td> \n",
       "</tr>\n",
       "<tr>\n",
       "  <th>Model:</th>                   <td>OLS</td>       <th>  Adj. R-squared:    </th> <td>   0.692</td> \n",
       "</tr>\n",
       "<tr>\n",
       "  <th>Method:</th>             <td>Least Squares</td>  <th>  F-statistic:       </th> <td>   878.8</td> \n",
       "</tr>\n",
       "<tr>\n",
       "  <th>Date:</th>             <td>Thu, 15 Apr 2021</td> <th>  Prob (F-statistic):</th> <td>6.02e-102</td>\n",
       "</tr>\n",
       "<tr>\n",
       "  <th>Time:</th>                 <td>13:17:06</td>     <th>  Log-Likelihood:    </th> <td> -1130.0</td> \n",
       "</tr>\n",
       "<tr>\n",
       "  <th>No. Observations:</th>      <td>   392</td>      <th>  AIC:               </th> <td>   2264.</td> \n",
       "</tr>\n",
       "<tr>\n",
       "  <th>Df Residuals:</th>          <td>   390</td>      <th>  BIC:               </th> <td>   2272.</td> \n",
       "</tr>\n",
       "<tr>\n",
       "  <th>Df Model:</th>              <td>     1</td>      <th>                     </th>     <td> </td>    \n",
       "</tr>\n",
       "<tr>\n",
       "  <th>Covariance Type:</th>      <td>nonrobust</td>    <th>                     </th>     <td> </td>    \n",
       "</tr>\n",
       "</table>\n",
       "<table class=\"simpletable\">\n",
       "<tr>\n",
       "      <td></td>        <th>coef</th>     <th>std err</th>      <th>t</th>      <th>P>|t|</th>  <th>[0.025</th>    <th>0.975]</th>  \n",
       "</tr>\n",
       "<tr>\n",
       "  <th>weight</th>   <td>   -0.0076</td> <td>    0.000</td> <td>  -29.645</td> <td> 0.000</td> <td>   -0.008</td> <td>   -0.007</td>\n",
       "</tr>\n",
       "<tr>\n",
       "  <th>constant</th> <td>   46.2165</td> <td>    0.799</td> <td>   57.867</td> <td> 0.000</td> <td>   44.646</td> <td>   47.787</td>\n",
       "</tr>\n",
       "</table>\n",
       "<table class=\"simpletable\">\n",
       "<tr>\n",
       "  <th>Omnibus:</th>       <td>41.682</td> <th>  Durbin-Watson:     </th> <td>   0.808</td>\n",
       "</tr>\n",
       "<tr>\n",
       "  <th>Prob(Omnibus):</th> <td> 0.000</td> <th>  Jarque-Bera (JB):  </th> <td>  60.039</td>\n",
       "</tr>\n",
       "<tr>\n",
       "  <th>Skew:</th>          <td> 0.727</td> <th>  Prob(JB):          </th> <td>9.18e-14</td>\n",
       "</tr>\n",
       "<tr>\n",
       "  <th>Kurtosis:</th>      <td> 4.251</td> <th>  Cond. No.          </th> <td>1.13e+04</td>\n",
       "</tr>\n",
       "</table><br/><br/>Notes:<br/>[1] Standard Errors assume that the covariance matrix of the errors is correctly specified.<br/>[2] The condition number is large, 1.13e+04. This might indicate that there are<br/>strong multicollinearity or other numerical problems."
      ],
      "text/plain": [
       "<class 'statsmodels.iolib.summary.Summary'>\n",
       "\"\"\"\n",
       "                            OLS Regression Results                            \n",
       "==============================================================================\n",
       "Dep. Variable:                    mpg   R-squared:                       0.693\n",
       "Model:                            OLS   Adj. R-squared:                  0.692\n",
       "Method:                 Least Squares   F-statistic:                     878.8\n",
       "Date:                Thu, 15 Apr 2021   Prob (F-statistic):          6.02e-102\n",
       "Time:                        13:17:06   Log-Likelihood:                -1130.0\n",
       "No. Observations:                 392   AIC:                             2264.\n",
       "Df Residuals:                     390   BIC:                             2272.\n",
       "Df Model:                           1                                         \n",
       "Covariance Type:            nonrobust                                         \n",
       "==============================================================================\n",
       "                 coef    std err          t      P>|t|      [0.025      0.975]\n",
       "------------------------------------------------------------------------------\n",
       "weight        -0.0076      0.000    -29.645      0.000      -0.008      -0.007\n",
       "constant      46.2165      0.799     57.867      0.000      44.646      47.787\n",
       "==============================================================================\n",
       "Omnibus:                       41.682   Durbin-Watson:                   0.808\n",
       "Prob(Omnibus):                  0.000   Jarque-Bera (JB):               60.039\n",
       "Skew:                           0.727   Prob(JB):                     9.18e-14\n",
       "Kurtosis:                       4.251   Cond. No.                     1.13e+04\n",
       "==============================================================================\n",
       "\n",
       "Notes:\n",
       "[1] Standard Errors assume that the covariance matrix of the errors is correctly specified.\n",
       "[2] The condition number is large, 1.13e+04. This might indicate that there are\n",
       "strong multicollinearity or other numerical problems.\n",
       "\"\"\""
      ]
     },
     "execution_count": 33,
     "metadata": {},
     "output_type": "execute_result"
    }
   ],
   "source": [
    "ols_model = sm.OLS(auto['mpg'], auto[['weight', 'constant']]).fit()\n",
    "ols_model.summary()"
   ]
  },
  {
   "cell_type": "markdown",
   "metadata": {},
   "source": [
    "This model estimates the relationship ${mpg} = \\beta_0 + \\beta_{1}weight + \\epsilon$ where $\\epsilon \\sim N(0, \\sigma^2)$\n",
    "\n",
    "There is a relationship between the predictor and response, as shown by the statistically significant coefficient $\\beta_{1}$ which has $t = -29.6$ and $p < 0.001$.\n",
    "\n",
    "There does seem to be a strong linear relationship between the predictor, weight, and the response, mpg. This is indicated in the $R^2$ value, which is 0.69. This is quite high and indicates that almost 70% of the variance in mpg can be explained by the linear relationship with weight.\n",
    "\n",
    "The relationship between weight and mpg is negative, as indicated by the sign on $\\beta_{1}$ which is negative. "
   ]
  },
  {
   "cell_type": "code",
   "execution_count": 34,
   "metadata": {},
   "outputs": [
    {
     "data": {
      "text/plain": [
       "Text(0.5, 1.0, 'Linear Regression')"
      ]
     },
     "execution_count": 34,
     "metadata": {},
     "output_type": "execute_result"
    },
    {
     "data": {
      "image/png": "[encoded data removed]",
      "text/plain": [
       "<Figure size 432x288 with 1 Axes>"
      ]
     },
     "metadata": {
      "needs_background": "light"
     },
     "output_type": "display_data"
    }
   ],
   "source": [
    "# Plot the y and regression fit.\n",
    "fig, ax = plt.subplots()\n",
    "fig = sm.graphics.plot_fit(ols_model, 0, ax = ax)\n",
    "ax.set_ylabel(\"MPG\")\n",
    "ax.set_xlabel(\"Weight\")\n",
    "ax.set_title(\"Linear Regression\")"
   ]
  },
  {
   "cell_type": "code",
   "execution_count": 35,
   "metadata": {},
   "outputs": [
    {
     "data": {
      "text/plain": [
       "Text(0, 0.5, 'Residual')"
      ]
     },
     "execution_count": 35,
     "metadata": {},
     "output_type": "execute_result"
    },
    {
     "data": {
      "image/png": "[encoded data removed]",
      "text/plain": [
       "<Figure size 720x504 with 1 Axes>"
      ]
     },
     "metadata": {
      "needs_background": "light"
     },
     "output_type": "display_data"
    }
   ],
   "source": [
    "# Residual plot\n",
    "plt.figure(figsize = (10, 7))\n",
    "plt.scatter(auto['mpg'], ols_model.resid, c = \"cornflowerblue\", marker = 'o')\n",
    "plt.axhline(c = 'black')\n",
    "plt.title('MPG vs. Residuals')\n",
    "plt.xlabel('MPG')\n",
    "plt.ylabel('Residual')"
   ]
  },
  {
   "cell_type": "markdown",
   "metadata": {},
   "source": [
    "There do seem to be issues with the fit. This is clear in the fact that the residuals are not homoskedastic. For higher MPGs, the model consistently has low predictions. There is a slight curved shape to the residuals in a nike swoosh shape going towards higher MPGs. A linear relationship may not be a good predictor in this range, and the relationship may not be totally linear."
   ]
  }
 ],
 "metadata": {
  "kernelspec": {
   "display_name": "Python 3",
   "language": "python",
   "name": "python3"
  },
  "language_info": {
   "codemirror_mode": {
    "name": "ipython",
    "version": 3
   },
   "file_extension": ".py",
   "mimetype": "text/x-python",
   "name": "python",
   "nbconvert_exporter": "python",
   "pygments_lexer": "ipython3",
   "version": "3.8.5"
  }
 },
 "nbformat": 4,
 "nbformat_minor": 5
}
